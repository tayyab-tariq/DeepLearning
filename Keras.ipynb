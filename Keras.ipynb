{
 "cells": [
  {
   "cell_type": "code",
   "execution_count": 2,
   "id": "995854b7",
   "metadata": {},
   "outputs": [],
   "source": [
    "# Imports\n",
    "import keras\n",
    "from sklearn.model_selection import train_test_split\n",
    "from keras.datasets import cifar10\n",
    "import numpy as np"
   ]
  },
  {
   "cell_type": "code",
   "execution_count": 3,
   "id": "2333ddba",
   "metadata": {},
   "outputs": [],
   "source": [
    "import ssl\n",
    "ssl._create_default_https_context = ssl._create_unverified_context\n",
    "\n",
    "# Load Data\n",
    "(train_images, train_labels), (test_images, test_labels) = cifar10.load_data()"
   ]
  },
  {
   "cell_type": "code",
   "execution_count": 4,
   "id": "f57b6176",
   "metadata": {},
   "outputs": [
    {
     "name": "stdout",
     "output_type": "stream",
     "text": [
      "Training Images:    (45000, 32, 32, 3)\n",
      "Training Labels:    (45000, 1)\n",
      "Validation Images:  (5000, 32, 32, 3)\n",
      "Validation Labels:  (5000, 1)\n",
      "Testing Images:     (10000, 32, 32, 3)\n",
      "Testing Labels:     (10000, 1)\n"
     ]
    }
   ],
   "source": [
    "# Split Data\n",
    "train_images, val_images, train_labels, val_labels = train_test_split(train_images, train_labels, test_size=0.1, random_state=10)\n",
    "\n",
    "# Display Data Info\n",
    "print(\"Training Images:   \", train_images.shape)\n",
    "print(\"Training Labels:   \", train_labels.shape)\n",
    "print(\"Validation Images: \", val_images.shape)\n",
    "print(\"Validation Labels: \", val_labels.shape)\n",
    "print(\"Testing Images:    \", test_images.shape)\n",
    "print(\"Testing Labels:    \", test_labels.shape)"
   ]
  },
  {
   "cell_type": "code",
   "execution_count": 5,
   "id": "7f9bf5a5",
   "metadata": {},
   "outputs": [],
   "source": [
    "# Create Model\n",
    "model = keras.Sequential([\n",
    "    keras.layers.BatchNormalization(input_shape = (32, 32, 3)),\n",
    "    keras.layers.Flatten(input_shape = (32, 32, 3)),\n",
    "    keras.layers.Dropout(0.3),\n",
    "    keras.layers.BatchNormalization(),\n",
    "    keras.layers.Dense(128, activation = 'relu', kernel_initializer = 'glorot_uniform'),\n",
    "    keras.layers.Dropout(0.3),\n",
    "    keras.layers.BatchNormalization(),\n",
    "    keras.layers.Dense(128, activation = 'relu', kernel_initializer = 'glorot_uniform'),\n",
    "    keras.layers.Dropout(0.3),\n",
    "    keras.layers.BatchNormalization(),\n",
    "    keras.layers.Dense(128, activation = 'relu', kernel_initializer = 'glorot_uniform'),\n",
    "    keras.layers.Dropout(0.3),\n",
    "    keras.layers.BatchNormalization(),\n",
    "    keras.layers.Dense(10)\n",
    "])\n",
    "\n",
    "model.compile(optimizer='adam',\n",
    "              loss=keras.losses.SparseCategoricalCrossentropy(from_logits=True),\n",
    "              metrics=['accuracy'])"
   ]
  },
  {
   "cell_type": "code",
   "execution_count": 8,
   "id": "2ec0518f",
   "metadata": {},
   "outputs": [
    {
     "name": "stdout",
     "output_type": "stream",
     "text": [
      "Epoch 1/10\n",
      "1407/1407 [==============================] - 28s 20ms/step - loss: 1.6229 - accuracy: 0.4239 - val_loss: 1.4521 - val_accuracy: 0.4854\n",
      "Epoch 2/10\n",
      "1407/1407 [==============================] - 31s 22ms/step - loss: 1.6057 - accuracy: 0.4266 - val_loss: 1.4361 - val_accuracy: 0.4982\n",
      "Epoch 3/10\n",
      "1407/1407 [==============================] - 26s 18ms/step - loss: 1.5907 - accuracy: 0.4340 - val_loss: 1.4231 - val_accuracy: 0.4946\n",
      "Epoch 4/10\n",
      "1407/1407 [==============================] - 25s 18ms/step - loss: 1.5770 - accuracy: 0.4386 - val_loss: 1.4015 - val_accuracy: 0.5030\n",
      "Epoch 5/10\n",
      "1407/1407 [==============================] - 27s 19ms/step - loss: 1.5624 - accuracy: 0.4445 - val_loss: 1.3923 - val_accuracy: 0.4998\n",
      "Epoch 6/10\n",
      "1407/1407 [==============================] - 30s 21ms/step - loss: 1.5581 - accuracy: 0.4455 - val_loss: 1.3895 - val_accuracy: 0.5082\n",
      "Epoch 7/10\n",
      "1407/1407 [==============================] - 29s 21ms/step - loss: 1.5457 - accuracy: 0.4527 - val_loss: 1.3760 - val_accuracy: 0.5068\n",
      "Epoch 8/10\n",
      "1407/1407 [==============================] - 31s 22ms/step - loss: 1.5304 - accuracy: 0.4577 - val_loss: 1.3753 - val_accuracy: 0.5194\n",
      "Epoch 9/10\n",
      "1407/1407 [==============================] - 30s 21ms/step - loss: 1.5296 - accuracy: 0.4570 - val_loss: 1.3683 - val_accuracy: 0.5136\n",
      "Epoch 10/10\n",
      "1407/1407 [==============================] - 25s 18ms/step - loss: 1.5155 - accuracy: 0.4625 - val_loss: 1.3644 - val_accuracy: 0.5126\n"
     ]
    },
    {
     "data": {
      "text/plain": [
       "<keras.callbacks.History at 0x298ce53e088>"
      ]
     },
     "execution_count": 8,
     "metadata": {},
     "output_type": "execute_result"
    }
   ],
   "source": [
    "# Train Model\n",
    "model.fit(train_images, train_labels, validation_data=(val_images, val_labels), epochs=10)      #   For better accuracy, increase epochs"
   ]
  },
  {
   "cell_type": "code",
   "execution_count": 9,
   "id": "949f0e03",
   "metadata": {},
   "outputs": [
    {
     "name": "stdout",
     "output_type": "stream",
     "text": [
      "1407/1407 [==============================] - 6s 4ms/step - loss: 1.2643 - accuracy: 0.5541\n",
      "Train Accuracy: 0.554111123085022\n",
      "157/157 [==============================] - 1s 5ms/step - loss: 1.3644 - accuracy: 0.5126\n",
      "Validation Accuracy: 0.5126000046730042\n",
      "313/313 [==============================] - 2s 5ms/step - loss: 1.3541 - accuracy: 0.5183\n",
      "Test accuracy: 0.5182999968528748\n"
     ]
    }
   ],
   "source": [
    "# Evaluate On Train Data\n",
    "train_loss, train_acc = model.evaluate(train_images,  train_labels)\n",
    "print('Train Accuracy:', train_acc)\n",
    "\n",
    "# Evaluate On Validation Data\n",
    "val_loss, val_acc = model.evaluate(val_images,  val_labels)\n",
    "print('Validation Accuracy:', val_acc)\n",
    "\n",
    "# Evaluate On Testing Data\n",
    "test_loss, test_acc = model.evaluate(test_images,  test_labels)\n",
    "print('Test accuracy:', test_acc)"
   ]
  }
 ],
 "metadata": {
  "kernelspec": {
   "display_name": "Python 3",
   "language": "python",
   "name": "python3"
  },
  "language_info": {
   "codemirror_mode": {
    "name": "ipython",
    "version": 3
   },
   "file_extension": ".py",
   "mimetype": "text/x-python",
   "name": "python",
   "nbconvert_exporter": "python",
   "pygments_lexer": "ipython3",
   "version": "3.7.6"
  }
 },
 "nbformat": 4,
 "nbformat_minor": 5
}
